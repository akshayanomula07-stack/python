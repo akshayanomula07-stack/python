{
  "nbformat": 4,
  "nbformat_minor": 0,
  "metadata": {
    "colab": {
      "provenance": []
    },
    "kernelspec": {
      "name": "python3",
      "display_name": "Python 3"
    },
    "language_info": {
      "name": "python"
    }
  },
  "cells": [
    {
      "cell_type": "code",
      "execution_count": 1,
      "metadata": {
        "colab": {
          "base_uri": "https://localhost:8080/"
        },
        "id": "bRdqXtvKgBtJ",
        "outputId": "5fa69e4e-00dc-47ec-c48b-8f7edb1cb333"
      },
      "outputs": [
        {
          "output_type": "stream",
          "name": "stdout",
          "text": [
            "my first python code\n"
          ]
        }
      ],
      "source": [
        "print(\"my first python code\")"
      ]
    }
  ]
}